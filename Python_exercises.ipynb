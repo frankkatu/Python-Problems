{
  "cells": [
    {
      "cell_type": "markdown",
      "metadata": {
        "id": "view-in-github",
        "colab_type": "text"
      },
      "source": [
        "<a href=\"https://colab.research.google.com/github/frankkatu/Python-Problems/blob/main/Python_exercises.ipynb\" target=\"_parent\"><img src=\"https://colab.research.google.com/assets/colab-badge.svg\" alt=\"Open In Colab\"/></a>"
      ]
    },
    {
      "cell_type": "markdown",
      "metadata": {
        "id": "jmeKH5zogK2K"
      },
      "source": [
        "**Introduction to python**"
      ]
    },
    {
      "cell_type": "code",
      "execution_count": null,
      "metadata": {
        "colab": {
          "base_uri": "https://localhost:8080/"
        },
        "id": "lZ9_6YcVfoue",
        "outputId": "35897fdc-7c59-4ef6-b620-1e72026168f6"
      },
      "outputs": [
        {
          "name": "stdout",
          "output_type": "stream",
          "text": [
            "Hello world\n"
          ]
        }
      ],
      "source": [
        "print(\"Hello world\")\n"
      ]
    },
    {
      "cell_type": "code",
      "execution_count": null,
      "metadata": {
        "colab": {
          "base_uri": "https://localhost:8080/"
        },
        "id": "QmCCd41zhf9n",
        "outputId": "f5659a47-f54b-4774-df7c-81e55cdf5fac"
      },
      "outputs": [
        {
          "name": "stdout",
          "output_type": "stream",
          "text": [
            "110\n"
          ]
        }
      ],
      "source": [
        "print(54 + 56)"
      ]
    },
    {
      "cell_type": "code",
      "execution_count": null,
      "metadata": {
        "colab": {
          "base_uri": "https://localhost:8080/"
        },
        "id": "vziiMew-huNl",
        "outputId": "bf840292-7c91-4dc9-bbfe-67bd7ef904ac"
      },
      "outputs": [
        {
          "name": "stdout",
          "output_type": "stream",
          "text": [
            "Summer\n",
            "2023\n"
          ]
        }
      ],
      "source": [
        "season = \"Summer\"\n",
        "year = 2023\n",
        "print(season)\n",
        "print(year)"
      ]
    },
    {
      "cell_type": "code",
      "execution_count": null,
      "metadata": {
        "colab": {
          "base_uri": "https://localhost:8080/"
        },
        "id": "QiFy-FLAiZ1N",
        "outputId": "346d4c89-a279-4e59-9c69-a9bc244711bb"
      },
      "outputs": [
        {
          "name": "stdout",
          "output_type": "stream",
          "text": [
            "Enter your nameJohn\n",
            "Your name is  John\n"
          ]
        }
      ],
      "source": [
        "Name = input(\"Enter your name\")\n",
        "print(\"Your name is \", Name)"
      ]
    },
    {
      "cell_type": "code",
      "execution_count": null,
      "metadata": {
        "colab": {
          "base_uri": "https://localhost:8080/"
        },
        "id": "60EYeQd3jYgi",
        "outputId": "47c0760f-a5f0-4643-a5c1-87046ac4255e"
      },
      "outputs": [
        {
          "name": "stdout",
          "output_type": "stream",
          "text": [
            "Enter the first number2\n",
            "Enter the second number3\n",
            "2^3:8\n"
          ]
        }
      ],
      "source": [
        "M = int(input(\"Enter the first number\"))\n",
        "N = int(input(\"Enter the second number\"))\n",
        "power = M**N\n",
        "print(f\"{M}^{N}:{power}\")"
      ]
    },
    {
      "cell_type": "code",
      "execution_count": null,
      "metadata": {
        "colab": {
          "base_uri": "https://localhost:8080/"
        },
        "id": "yQKN1dxml8NH",
        "outputId": "93aae746-5539-46df-f412-c3e973302bd2"
      },
      "outputs": [
        {
          "name": "stdout",
          "output_type": "stream",
          "text": [
            "Enter the weight to be shipped23\n",
            "20\n"
          ]
        }
      ],
      "source": [
        "weight = int(input(\"Enter the weight to be shipped\"))\n",
        "load = (weight//4)*4\n",
        "print(load)"
      ]
    },
    {
      "cell_type": "code",
      "execution_count": null,
      "metadata": {
        "colab": {
          "base_uri": "https://localhost:8080/"
        },
        "id": "wJRy_2CkpseX",
        "outputId": "8a79d351-6091-423d-f550-6faa066ce3f5"
      },
      "outputs": [
        {
          "name": "stdout",
          "output_type": "stream",
          "text": [
            "Enter number A: 2\n",
            "Enter number B: 6\n",
            "Enter number C: 8\n",
            "Enter number D: 1.3\n",
            "267\n"
          ]
        }
      ],
      "source": [
        "A = int(input(\"Enter number A: \"))\n",
        "B = int(input(\"Enter number B: \"))\n",
        "C = int(input(\"Enter number C: \"))\n",
        "D = float(input(\"Enter number D: \"))\n",
        "result = int((A**C) + (B*A) - (D/3))\n",
        "print(result)"
      ]
    },
    {
      "cell_type": "code",
      "execution_count": null,
      "metadata": {
        "colab": {
          "base_uri": "https://localhost:8080/"
        },
        "id": "O-yBPvq-sdwc",
        "outputId": "b89620a8-5a04-4f60-9d49-db4cb05e20a4"
      },
      "outputs": [
        {
          "name": "stdout",
          "output_type": "stream",
          "text": [
            "Enter the number if chocolates: 50\n",
            "Each friend will recive:  16 chocolates\n",
            "The number of remaing chocolates is:  2\n"
          ]
        }
      ],
      "source": [
        "chocolates = int(input(\"Enter the number if chocolates: \"))\n",
        "received  = chocolates//3\n",
        "remaining = chocolates % 3\n",
        "print(\"Each friend will recive: \", received, \"chocolates\")\n",
        "print(\"The number of remaing chocolates is: \", remaining)"
      ]
    },
    {
      "cell_type": "code",
      "execution_count": null,
      "metadata": {
        "colab": {
          "base_uri": "https://localhost:8080/"
        },
        "id": "WcEZELM2uif1",
        "outputId": "113e3a4c-653b-4eb7-f81d-ad26e603b23c"
      },
      "outputs": [
        {
          "name": "stdout",
          "output_type": "stream",
          "text": [
            "Enter the radius4\n",
            "Circumference is  25.132741228718345\n",
            "Area is 50.26548245743669\n"
          ]
        }
      ],
      "source": [
        "import math\n",
        "radius = float(input(\"Enter the radius\"))\n",
        "circumference  = 2*(math.pi)*radius\n",
        "area = math.pi*(radius**2)\n",
        "print(\"Circumference is \", circumference)\n",
        "print(\"Area is\", area)"
      ]
    },
    {
      "cell_type": "markdown",
      "metadata": {
        "id": "DXfo-P4LyWMt"
      },
      "source": [
        "**Loops**"
      ]
    },
    {
      "cell_type": "code",
      "execution_count": null,
      "metadata": {
        "colab": {
          "base_uri": "https://localhost:8080/"
        },
        "id": "zFJ6gC8lyjXv",
        "outputId": "387a50c1-993d-445c-881c-5f7d91b3fa00"
      },
      "outputs": [
        {
          "output_type": "stream",
          "name": "stdout",
          "text": [
            "Enter a the favourite car: Veyron\n",
            "Enter a number: 5\n",
            "Veyron\n",
            "Veyron\n",
            "Veyron\n",
            "Veyron\n",
            "Veyron\n"
          ]
        }
      ],
      "source": [
        "# Understanding loops;\n",
        "\n",
        "# we mostly need range we are handling indices/ and direct integer.\n",
        "#for loop:\n",
        "\n",
        "name_car = input(\"Enter a the favourite car: \")\n",
        "num = int(input(\"Enter a number: \"))\n",
        "for i in range(num):\n",
        "  print(name_car)\n",
        "\n",
        "\n",
        "#while loop:\n",
        "\n",
        "\n",
        "\n"
      ]
    },
    {
      "cell_type": "code",
      "source": [
        "arr =[1,4,5,7,8,34,7]\n",
        "sum = 0\n",
        "for i in arr:\n",
        "  sum = sum + i\n",
        "print(\"The sum is: \", sum)\n",
        "\n"
      ],
      "metadata": {
        "colab": {
          "base_uri": "https://localhost:8080/"
        },
        "id": "KhCiXqhjUsqd",
        "outputId": "5e6d354f-91be-441d-83d5-976aa26e5ae3"
      },
      "execution_count": null,
      "outputs": [
        {
          "output_type": "stream",
          "name": "stdout",
          "text": [
            "The sum is:  66\n"
          ]
        }
      ]
    },
    {
      "cell_type": "code",
      "source": [
        "total = int(input(\"Enter the weight you want\"))\n",
        "weight = (total // 4)*4\n",
        "print(weight)"
      ],
      "metadata": {
        "colab": {
          "base_uri": "https://localhost:8080/"
        },
        "id": "IiVlLpmSWthJ",
        "outputId": "a63f21ca-c12e-4f9f-b72a-011ad474b7e6"
      },
      "execution_count": null,
      "outputs": [
        {
          "output_type": "stream",
          "name": "stdout",
          "text": [
            "Enter the weight you want11\n",
            "8\n"
          ]
        }
      ]
    },
    {
      "cell_type": "code",
      "source": [
        "total = int(input(\"Sample Input 1:\"))\n",
        "print(\"sample Output 1:\")\n",
        "received = total//3\n",
        "# remain = total- (received*3)\n",
        "remain = total % 3\n",
        "print(\"Each friend will receive\", received, \"chocolates\")\n",
        "print(\"The number of remaining chocolates is \",remain)"
      ],
      "metadata": {
        "colab": {
          "base_uri": "https://localhost:8080/"
        },
        "id": "Y-L4FxRYZN99",
        "outputId": "db50174b-0fbe-4b53-ff35-dbe7ba8d86c8"
      },
      "execution_count": null,
      "outputs": [
        {
          "output_type": "stream",
          "name": "stdout",
          "text": [
            "Sample Input 1:90\n",
            "sample Output 1:\n",
            "Each friend will receive 30 chocolates\n",
            "The number of remaining chocolates is  0\n"
          ]
        }
      ]
    },
    {
      "cell_type": "code",
      "source": [
        "int1 = int(input(\"Enter the first integer: \"))\n",
        "float1 = float(input(\"Enter the first float: \"))\n",
        "int2 = int(input(\"Enter the second integer: \"))\n",
        "print(f\"The inputs: {int1}, {float1}, {int2}\")\n",
        "sum = int1 + float1\n",
        "# final = str(sum) + str(int2)\n",
        "print(f\"The result: {sum}{int2}\")"
      ],
      "metadata": {
        "colab": {
          "base_uri": "https://localhost:8080/"
        },
        "id": "d6bFzVDNbCu-",
        "outputId": "fe2a3de6-ba46-4354-99f1-ecb001421546"
      },
      "execution_count": null,
      "outputs": [
        {
          "output_type": "stream",
          "name": "stdout",
          "text": [
            "Enter the first integer: 3\n",
            "Enter the first float: 11.57\n",
            "Enter the second integer: 7\n",
            "The inputs: 3, 11.57, 7\n",
            "The result:, 14.577\n"
          ]
        }
      ]
    },
    {
      "cell_type": "code",
      "source": [
        "#A\n",
        "\n",
        "for i in range(24, -7, -6):\n",
        "  if i == -6:\n",
        "    print(i)\n",
        "  else:\n",
        "    print(i, end=',')"
      ],
      "metadata": {
        "colab": {
          "base_uri": "https://localhost:8080/"
        },
        "id": "JRmdJs72eHr9",
        "outputId": "cbd652df-131e-4400-ecb4-5259d79ee71e"
      },
      "execution_count": null,
      "outputs": [
        {
          "output_type": "stream",
          "name": "stdout",
          "text": [
            "24,18,12,6,0,"
          ]
        }
      ]
    },
    {
      "cell_type": "code",
      "source": [
        "for i in range(-10, 21, 5):\n",
        "  if i == 20:\n",
        "    print(i)\n",
        "  else:\n",
        "    print(i, end=',')\n"
      ],
      "metadata": {
        "colab": {
          "base_uri": "https://localhost:8080/"
        },
        "id": "oRE_dpvpPbLb",
        "outputId": "6a572653-2157-4d9d-830c-fb625395059b"
      },
      "execution_count": null,
      "outputs": [
        {
          "output_type": "stream",
          "name": "stdout",
          "text": [
            "-10,-5,0,5,10,15,20\n"
          ]
        }
      ]
    },
    {
      "cell_type": "code",
      "source": [
        "sum = 0\n",
        "for i in range(1, 601):\n",
        "  if i%7 ==0 and i%9 ==0:\n",
        "    pass\n",
        "  elif  i%7 == 0 or i%9 == 0:\n",
        "    sum+=i\n",
        "\n",
        "print(sum)"
      ],
      "metadata": {
        "colab": {
          "base_uri": "https://localhost:8080/"
        },
        "id": "f_kwk3AURH-4",
        "outputId": "5baa6230-58a0-4944-b406-6c6855769404"
      },
      "execution_count": null,
      "outputs": [
        {
          "output_type": "stream",
          "name": "stdout",
          "text": [
            "39814\n"
          ]
        }
      ]
    },
    {
      "cell_type": "code",
      "source": [
        "my_string = \"   frank   \"\n",
        "print(my_string.strip())"
      ],
      "metadata": {
        "colab": {
          "base_uri": "https://localhost:8080/"
        },
        "id": "KsJbD6nnT9cl",
        "outputId": "bc9379b3-e773-4722-b2b4-c6633af2f67c"
      },
      "execution_count": null,
      "outputs": [
        {
          "output_type": "stream",
          "name": "stdout",
          "text": [
            "frank\n"
          ]
        }
      ]
    },
    {
      "cell_type": "code",
      "source": [
        "sum  = 0\n",
        "count = 0\n",
        "for i in range(10):\n",
        "  num = int(input(\"Enter the number: \"))\n",
        "  if num%2 == 0:\n",
        "    pass\n",
        "  else:\n",
        "    sum += num\n",
        "    count += 1\n",
        "average = sum/count\n",
        "print(sum)\n",
        "print(average)\n"
      ],
      "metadata": {
        "colab": {
          "base_uri": "https://localhost:8080/"
        },
        "id": "ATLoVgKkJ1xi",
        "outputId": "e6113b04-d36e-4f64-bb19-1df1a220ed1f"
      },
      "execution_count": null,
      "outputs": [
        {
          "output_type": "stream",
          "name": "stdout",
          "text": [
            "Enter the number: 1\n",
            "Enter the number: 2\n",
            "Enter the number: 3\n",
            "Enter the number: 4\n",
            "Enter the number: 5\n",
            "Enter the number: 6\n",
            "Enter the number: 7\n",
            "Enter the number: 8\n",
            "Enter the number: 9\n",
            "Enter the number: 10\n",
            "25\n",
            "5.0\n"
          ]
        }
      ]
    },
    {
      "cell_type": "code",
      "source": [
        "sum = 0\n",
        "N = int(input(\"Enter any number: \"))\n",
        "for i in range(N+1):\n",
        "  if i % 7 != 0:\n",
        "    pass\n",
        "  else:\n",
        "    sum += i\n",
        "print(sum)\n",
        "\n"
      ],
      "metadata": {
        "colab": {
          "base_uri": "https://localhost:8080/"
        },
        "id": "FE47XpjcOxKs",
        "outputId": "5ba54d84-e55a-414a-8f84-341afa4e716e"
      },
      "execution_count": null,
      "outputs": [
        {
          "output_type": "stream",
          "name": "stdout",
          "text": [
            "Enter any number: 50\n",
            "196\n"
          ]
        }
      ]
    },
    {
      "cell_type": "code",
      "source": [
        "num = input(\"Enter a number\")\n",
        "r = ''\n",
        "for i in range(len(num)):\n",
        "  r+=str(int(num)%10)\n",
        "  num = int(num)//10\n",
        "for  j in range(len(r)):\n",
        "  if j == len(r)-1:\n",
        "    print(r[j])\n",
        "    break\n",
        "  else:\n",
        "    print(r[j], end=',')\n",
        "\n",
        "print(r[len(r)-1])"
      ],
      "metadata": {
        "colab": {
          "base_uri": "https://localhost:8080/"
        },
        "id": "2MzGmEySRDKP",
        "outputId": "1a916d84-f93c-49c7-eb0b-73024b202272"
      },
      "execution_count": null,
      "outputs": [
        {
          "output_type": "stream",
          "name": "stdout",
          "text": [
            "Enter a number32768\n",
            "8,6,7,2,3\n",
            "3\n"
          ]
        }
      ]
    },
    {
      "cell_type": "code",
      "source": [
        "s  = 'frank'\n",
        "# to access  index  in a string we use indexing\n",
        "print(s[0])\n",
        "print(len(s))\n",
        "print(s[len(s)-1])"
      ],
      "metadata": {
        "colab": {
          "base_uri": "https://localhost:8080/"
        },
        "id": "qBSezgJZaR2B",
        "outputId": "4e3ba5ee-dc24-4919-a268-b6ef127bcae8"
      },
      "execution_count": null,
      "outputs": [
        {
          "output_type": "stream",
          "name": "stdout",
          "text": [
            "f\n",
            "5\n",
            "k\n"
          ]
        }
      ]
    },
    {
      "cell_type": "code",
      "source": [
        "a  = 45326\n",
        "b = a//10\n",
        "\n",
        "# print(a%10)\n",
        "# print(b)\n",
        "\n",
        "#45326 = 10x4532 + 6\n",
        "# 45326 = 7X6475 + 1\n",
        "#  256 = 2X128 + 0\n",
        "# print(45326%7)"
      ],
      "metadata": {
        "id": "Q_c28btDTlxf"
      },
      "execution_count": null,
      "outputs": []
    },
    {
      "cell_type": "code",
      "source": [],
      "metadata": {
        "id": "ng0fpEn3dnqc"
      },
      "execution_count": null,
      "outputs": []
    },
    {
      "cell_type": "code",
      "source": [
        "print(54 + 56)"
      ],
      "metadata": {
        "colab": {
          "base_uri": "https://localhost:8080/"
        },
        "id": "ZSKatKkXU_cO",
        "outputId": "d190507d-7fc9-4143-a024-cb03acd3e7d9"
      },
      "execution_count": null,
      "outputs": [
        {
          "output_type": "stream",
          "name": "stdout",
          "text": [
            "110\n"
          ]
        }
      ]
    },
    {
      "cell_type": "code",
      "source": [
        "# Task 3\n",
        "season = \"Summer\"\n",
        "year = 2023\n",
        "print(season, \"\\n\" , year)"
      ],
      "metadata": {
        "colab": {
          "base_uri": "https://localhost:8080/"
        },
        "id": "icnLbWQvVXrx",
        "outputId": "29959db8-24bc-4dc9-aa52-f2ea32984f67"
      },
      "execution_count": null,
      "outputs": [
        {
          "output_type": "stream",
          "name": "stdout",
          "text": [
            "Summer \n",
            " 2023\n"
          ]
        }
      ]
    },
    {
      "cell_type": "code",
      "source": [
        "# Task 9\n",
        "value1 = input(\"Enter two values\")\n",
        "value2 = input(\"Enter two values\")\n",
        "combined = value2 + value1\n",
        "print(combined)\n",
        "\n",
        "\n"
      ],
      "metadata": {
        "colab": {
          "base_uri": "https://localhost:8080/"
        },
        "id": "JsY5Uo-7YPQ9",
        "outputId": "031e2b2f-e579-424f-e369-5d05e28067b5"
      },
      "execution_count": null,
      "outputs": [
        {
          "output_type": "stream",
          "name": "stdout",
          "text": [
            "Enter two values5\n",
            "Enter two values2\n",
            "25\n"
          ]
        }
      ]
    },
    {
      "cell_type": "code",
      "source": [
        "# Task 10\n",
        "integer1 = int(input(\"Enter an integer\"))\n",
        "float1 = float(input(\"Enter an integer\"))\n",
        "integer2 = int(input(\"Enter an integer\"))\n",
        "print(f\"The inputs: {integer1}, {float1}, {integer2}\")\n",
        "result = str(integer1 + float1) + str(integer2)\n",
        "print(result)"
      ],
      "metadata": {
        "colab": {
          "base_uri": "https://localhost:8080/"
        },
        "id": "Dm_9BTF6b0C4",
        "outputId": "09302d14-565e-4b7c-b932-05cd109b26da"
      },
      "execution_count": null,
      "outputs": [
        {
          "output_type": "stream",
          "name": "stdout",
          "text": [
            "Enter an integer33\n",
            "Enter an integer1.9\n",
            "Enter an integer753\n",
            "The inputs: 33, 1.9, 753\n",
            "34.9753\n"
          ]
        }
      ]
    },
    {
      "cell_type": "code",
      "source": [
        "# Task11\n",
        "user_input = int(input(\"Enter any number\"))\n",
        "if user_input % 2 == 0:\n",
        "  print(\"True\")\n",
        "else:\n",
        "  print(\"False\")\n",
        "\n"
      ],
      "metadata": {
        "colab": {
          "base_uri": "https://localhost:8080/"
        },
        "id": "ebSW2tAFl5eJ",
        "outputId": "837e53a9-6ff9-417d-c57a-9fd43766a8ad"
      },
      "execution_count": null,
      "outputs": [
        {
          "output_type": "stream",
          "name": "stdout",
          "text": [
            "Enter any number7\n",
            "False\n"
          ]
        }
      ]
    },
    {
      "cell_type": "code",
      "source": [
        "count = 24\n",
        "while count <=-6:\n",
        "  print(count,end='')\n",
        "  count = count - 6"
      ],
      "metadata": {
        "id": "3V7ybTmD3l-l"
      },
      "execution_count": null,
      "outputs": []
    },
    {
      "cell_type": "markdown",
      "source": [
        "Write a Python program that takes a String as an input from the user and prints that String in\n",
        "reverse order."
      ],
      "metadata": {
        "id": "xA_R2gpNF67s"
      }
    },
    {
      "cell_type": "code",
      "source": [
        "#Reversing a string\n",
        "text = \"Frank\"\n",
        "reversed_text = \"\"\n",
        "for char in text:\n",
        "  reversed_text = char + reversed_text\n",
        "print(reversed_text)\n"
      ],
      "metadata": {
        "colab": {
          "base_uri": "https://localhost:8080/"
        },
        "id": "xjQpH-Rc2uaA",
        "outputId": "337d65bc-d56c-4ce6-eed5-d39cd0a39e52"
      },
      "execution_count": null,
      "outputs": [
        {
          "output_type": "stream",
          "name": "stdout",
          "text": [
            "knarF\n"
          ]
        }
      ]
    },
    {
      "cell_type": "code",
      "source": [],
      "metadata": {
        "id": "YSJ8hdZPN4qa"
      },
      "execution_count": null,
      "outputs": []
    },
    {
      "cell_type": "markdown",
      "source": [
        "Write a Python program that takes a String as an input from the user and prints that String in\n",
        "reverse order."
      ],
      "metadata": {
        "id": "PR4PmqOdF12J"
      }
    },
    {
      "cell_type": "code",
      "source": [
        "#Reversing a string\n",
        "text = \"Python\"\n",
        "reversed_text2 = text[::-1]\n",
        "print((reversed_text2))"
      ],
      "metadata": {
        "colab": {
          "base_uri": "https://localhost:8080/"
        },
        "id": "mrvLI5A_4GJk",
        "outputId": "087567bc-9a54-459c-810e-c738a4a8e094"
      },
      "execution_count": null,
      "outputs": [
        {
          "output_type": "stream",
          "name": "stdout",
          "text": [
            "nohtyP\n"
          ]
        }
      ]
    },
    {
      "cell_type": "markdown",
      "source": [
        "Write a python program that takes 2 inputs from the user, where the first input is a string with\n",
        "length greater than 1. The second input is the index of the first given string from where you have\n",
        "to start reversing. After reversing the first input string from that index, print the new string back\n",
        "to the user."
      ],
      "metadata": {
        "id": "N07Z5kF9FqnJ"
      }
    },
    {
      "cell_type": "code",
      "source": [
        "#Reversing part of the string\n",
        "for i in range(1):\n",
        "  str1 = input(\"Enter the first string: \")\n",
        "  index = int(input(\"Enter the index: \"))\n",
        "if len(str1) > 1 & index <= len(str1):\n",
        "  reversed_text3 = str1[index::-1]\n",
        "  remaining_text = str1[index + 1:]\n",
        "  result = reversed_text3 + remaining_text\n",
        "print(result)\n",
        "\n"
      ],
      "metadata": {
        "colab": {
          "base_uri": "https://localhost:8080/"
        },
        "id": "ziUDU_qB6k3a",
        "outputId": "089b6018-e164-45d2-ba1c-ae65dd8ae66f"
      },
      "execution_count": null,
      "outputs": [
        {
          "output_type": "stream",
          "name": "stdout",
          "text": [
            "Enter the first string: aBcd1234defg\n",
            "Enter the index: 5\n",
            "21dcBa34defg\n"
          ]
        }
      ]
    },
    {
      "cell_type": "markdown",
      "source": [
        "Write a program that takes a string as input and prints “Binary Number” if the string contains\n",
        "only 0s or 1s. Otherwise, print “Not a Binary Number”."
      ],
      "metadata": {
        "id": "ykmMICqVFfxK"
      }
    },
    {
      "cell_type": "code",
      "source": [
        "numbers = [5, 2, 9, 1, 5, 6]\n",
        "\n",
        "min = numbers[0]\n",
        "for i in range(len(numbers)):\n",
        "  if numbers[i] < min:\n",
        "    min = numbers[i]\n",
        "\n",
        "print(min)"
      ],
      "metadata": {
        "id": "oLPU5s3nFfUE",
        "colab": {
          "base_uri": "https://localhost:8080/"
        },
        "outputId": "3224f1bb-f693-444f-d878-1ba017b8dac5"
      },
      "execution_count": null,
      "outputs": [
        {
          "output_type": "stream",
          "name": "stdout",
          "text": [
            "1\n"
          ]
        }
      ]
    },
    {
      "cell_type": "code",
      "source": [
        "def insertion_sort(arr):\n",
        "    for i in range(1, len(arr)):\n",
        "        j = i - 1\n",
        "        while j > 0 and arr[i] < arr[j]:\n",
        "            arr[j], arr[i] = arr[i], arr[j]  # Swap\n",
        "            j -= 1\n",
        "\n",
        "# Example usage\n",
        "numbers = [9, 5, 1, 4, 3]\n",
        "print(\"Before sorting:\", numbers)\n",
        "\n",
        "insertion_sort(numbers)\n",
        "\n",
        "print(\"After sorting:\", numbers)\n"
      ],
      "metadata": {
        "colab": {
          "base_uri": "https://localhost:8080/"
        },
        "id": "rmP8_YAine4B",
        "outputId": "68b558b8-61eb-4c50-d778-4b1310029aa0"
      },
      "execution_count": null,
      "outputs": [
        {
          "output_type": "stream",
          "name": "stdout",
          "text": [
            "Before sorting: [9, 5, 1, 4, 3]\n",
            "After sorting: [9, 1, 4, 3, 5]\n"
          ]
        }
      ]
    }
  ],
  "metadata": {
    "colab": {
      "provenance": [],
      "include_colab_link": true
    },
    "kernelspec": {
      "display_name": "Python 3",
      "name": "python3"
    },
    "language_info": {
      "name": "python"
    }
  },
  "nbformat": 4,
  "nbformat_minor": 0
}
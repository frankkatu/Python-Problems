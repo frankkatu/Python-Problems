{
  "nbformat": 4,
  "nbformat_minor": 0,
  "metadata": {
    "colab": {
      "provenance": [],
      "include_colab_link": true
    },
    "kernelspec": {
      "name": "python3",
      "display_name": "Python 3"
    },
    "language_info": {
      "name": "python"
    }
  },
  "cells": [
    {
      "cell_type": "markdown",
      "metadata": {
        "id": "view-in-github",
        "colab_type": "text"
      },
      "source": [
        "<a href=\"https://colab.research.google.com/github/frankkatu/Python-Problems/blob/main/Python_Lists.ipynb\" target=\"_parent\"><img src=\"https://colab.research.google.com/assets/colab-badge.svg\" alt=\"Open In Colab\"/></a>"
      ]
    },
    {
      "cell_type": "code",
      "execution_count": null,
      "metadata": {
        "id": "qB7NpK6TsItt"
      },
      "outputs": [],
      "source": []
    },
    {
      "cell_type": "markdown",
      "source": [
        "# Task 1\n",
        "Write a Python program that reads 5 numbers from the user into a list. After reading each\n",
        "number, print all the numbers that have been entered so far in the list."
      ],
      "metadata": {
        "id": "C-BD2RGXsMrx"
      }
    },
    {
      "cell_type": "code",
      "source": [
        "My_list = []\n",
        "\n",
        "for num in range(6):\n",
        "  number = int(input(\"Enter a number\"))\n",
        "  My_list.append(number)\n",
        "\n",
        "  print(My_list)\n"
      ],
      "metadata": {
        "colab": {
          "base_uri": "https://localhost:8080/"
        },
        "id": "yFVLrXfusSZE",
        "outputId": "101300fd-f35c-4ca1-d0f4-a989bfff4266"
      },
      "execution_count": null,
      "outputs": [
        {
          "output_type": "stream",
          "name": "stdout",
          "text": [
            "Enter a number2\n",
            "[2]\n",
            "Enter a number3\n",
            "[2, 3]\n",
            "Enter a number4\n",
            "[2, 3, 4]\n",
            "Enter a number5\n",
            "[2, 3, 4, 5]\n",
            "Enter a number6\n",
            "[2, 3, 4, 5, 6]\n",
            "Enter a number7\n",
            "[2, 3, 4, 5, 6, 7]\n"
          ]
        }
      ]
    },
    {
      "cell_type": "markdown",
      "source": [
        "# Task 2\n",
        "Write a Python program that takes an input from the user, then creates a new list excluding the\n",
        "first and last two elements of the given list and prints the new list. If there are not enough\n",
        "elements in the list to do the task, print \"Not possible\"."
      ],
      "metadata": {
        "id": "Sc5CttDFunTs"
      }
    },
    {
      "cell_type": "code",
      "source": [
        "user_input = input(\"Enter list elements seperated by commas: \")\n",
        "\n",
        "my_list = [int(x) for x in user_input.split(\",\")]\n",
        "\n",
        "if len(my_list) < 5:\n",
        "  print(\"It is impossible\")\n",
        "\n",
        "else:\n",
        "  new_list = my_list[2:-2]\n",
        "\n",
        "print(new_list)"
      ],
      "metadata": {
        "colab": {
          "base_uri": "https://localhost:8080/"
        },
        "id": "2LJijbk1EhqA",
        "outputId": "d5ea1d34-3231-43ea-ac35-dc75651454a1"
      },
      "execution_count": null,
      "outputs": [
        {
          "output_type": "stream",
          "name": "stdout",
          "text": [
            "Enter list elements seperated by commas: 1,2,3,4,5,6,7,8\n",
            "[3, 4, 5, 6]\n"
          ]
        }
      ]
    },
    {
      "cell_type": "markdown",
      "source": [
        "# Task 3\n",
        "Write a python program that reads 5 numbers from the user into a list, and then prints them in the\n",
        "reverse order."
      ],
      "metadata": {
        "id": "1ScMp6ktCcYS"
      }
    },
    {
      "cell_type": "code",
      "source": [
        "my_list = []\n",
        "\n",
        "for num in range(5):\n",
        "    num = int(input(\"Enter an integer: \"))\n",
        "    my_list.append(num)\n",
        "\n",
        "my_list.reverse()\n",
        "print(my_list)"
      ],
      "metadata": {
        "colab": {
          "base_uri": "https://localhost:8080/"
        },
        "id": "-5iXDOqBCiug",
        "outputId": "c4acbc87-dca0-4d26-8cab-74cfc7b254ab"
      },
      "execution_count": null,
      "outputs": [
        {
          "output_type": "stream",
          "name": "stdout",
          "text": [
            "Enter an integer: 1\n",
            "Enter an integer: 2\n",
            "Enter an integer: 3\n",
            "Enter an integer: 4\n",
            "Enter an integer: 5\n",
            "[5, 4, 3, 2, 1]\n"
          ]
        }
      ]
    },
    {
      "cell_type": "markdown",
      "source": [
        "# Task 4\n",
        "Write a Python program that turns every item of a list into its square. [Your program should work\n",
        "for any lists; make changes to the lists below and check whether your program works correctly]"
      ],
      "metadata": {
        "id": "nbCBlNPJKrqx"
      }
    },
    {
      "cell_type": "code",
      "source": [
        "user_input = input(\"Enter integers seperated by commas\")\n",
        "\n",
        "my_list = [int(x) for x in user_input.split(\",\")]\n",
        "\n",
        "squared_list = []\n",
        "for num in my_list:\n",
        "  squared_list.append(num * num)\n",
        "print(squared_list)"
      ],
      "metadata": {
        "colab": {
          "base_uri": "https://localhost:8080/"
        },
        "id": "udZG8c5GKzua",
        "outputId": "02db43df-4d44-420a-cc5d-de088de70c2e"
      },
      "execution_count": null,
      "outputs": [
        {
          "output_type": "stream",
          "name": "stdout",
          "text": [
            "Enter integers seperated by commas1,2,3,4,5\n",
            "[1, 4, 9, 16, 25]\n"
          ]
        }
      ]
    },
    {
      "cell_type": "markdown",
      "source": [
        "# Task 5\n",
        "Write a Python program that removes all Empty strings from a given list and prints the modified\n",
        "list. [Your program should work for any given list; make changes to the list below and check\n",
        "whether your program works correctly]"
      ],
      "metadata": {
        "id": "cqnKrtkNNjh5"
      }
    },
    {
      "cell_type": "code",
      "source": [
        "my_list = input(\"Enter multiple strings seperated by space: \")\n",
        "\n",
        "new_list = [x for x in my_list.split(\" \")]\n",
        "\n",
        "print(new_list)\n",
        "\n",
        "modified_list = [item for item  in new_list if item != \"\"]\n",
        "\n",
        "print(modified_list)\n"
      ],
      "metadata": {
        "colab": {
          "base_uri": "https://localhost:8080/"
        },
        "id": "YdRfF8LZRMME",
        "outputId": "632c24d4-35cd-467c-bf75-a2d492868905"
      },
      "execution_count": null,
      "outputs": [
        {
          "output_type": "stream",
          "name": "stdout",
          "text": [
            "Enter multiple strings seperated by space: frank  james kevi    rwanda\n",
            "['frank', '', 'james', 'kevi', '', '', '', 'rwanda']\n",
            "['frank', 'james', 'kevi', 'rwanda']\n"
          ]
        }
      ]
    },
    {
      "cell_type": "markdown",
      "source": [
        "# Task 6\n",
        "Write a Python program that reads a string containing 7 numbers separated by commas, then\n",
        "makes a list of those numbers and prints the largest number and its location or index position in\n",
        "the list. [You are not allowed to use the max(), sort(), sorted() function here]"
      ],
      "metadata": {
        "id": "MnljR5YvVgXc"
      }
    },
    {
      "cell_type": "code",
      "source": [
        "user_input = input(\"Enter numbers seperated by commas: \")\n",
        "\n",
        "my_list = [int(x) for x in user_input.split(\",\")]\n",
        "\n",
        "max_num = my_list[0]\n",
        "\n",
        "for num in my_list:\n",
        "  if num > max_num:\n",
        "    max_num = num\n",
        "    max_index = my_list.index(max_num)\n",
        "\n",
        "print(f\"The maximum number is {max_num} found at index {max_index}.\")"
      ],
      "metadata": {
        "colab": {
          "base_uri": "https://localhost:8080/"
        },
        "id": "WMpKKgpmVvxz",
        "outputId": "3440442f-2a3d-4afe-906a-dc0210297e43"
      },
      "execution_count": null,
      "outputs": [
        {
          "output_type": "stream",
          "name": "stdout",
          "text": [
            "Enter numbers seperated by commas: 1,3,5,76,45,23,56,90\n",
            "The maximum number is 90 found at index 7.\n"
          ]
        }
      ]
    },
    {
      "cell_type": "markdown",
      "source": [
        "# Task 7\n",
        "Suppose you have been given two lists. Write a Python program that replaces the last element of\n",
        "the first list with the second list. [Your program should work for any two given lists; make\n",
        "changes to the lists below and check whether your program works correctly]"
      ],
      "metadata": {
        "id": "ZI8cZHqYa_m0"
      }
    },
    {
      "cell_type": "code",
      "source": [
        "my_list1 = input(\"Enter elements of first list: \")\n",
        "list_1 = [int(x) for x in my_list1.split(\",\")]\n",
        "\n",
        "my_list2 = input(\"Enter elements of first list: \")\n",
        "list_2 = [int(x) for x in my_list2.split(\",\")]\n",
        "\n",
        "list_1 = list_1[:-1] + list_2\n",
        "\n",
        "print(list_1)\n",
        "\n",
        "\n"
      ],
      "metadata": {
        "colab": {
          "base_uri": "https://localhost:8080/"
        },
        "id": "BhZqwmGYbFiI",
        "outputId": "9db56dd5-ad47-4655-f624-a9e0e819e6b3"
      },
      "execution_count": null,
      "outputs": [
        {
          "output_type": "stream",
          "name": "stdout",
          "text": [
            "Enter elements of first list: 0,1,2,3,4,5\n",
            "Enter elements of first list: 6,7,8,9\n",
            "[0, 1, 2, 3, 4, 6, 7, 8, 9]\n"
          ]
        }
      ]
    },
    {
      "cell_type": "markdown",
      "source": [
        "# Task 8\n",
        "Assume, you have been given two lists. [Your program should work for any two given lists;\n",
        "change the following lists and check whether your program works correctly for the code you\n",
        "have written]. Write a Python program that creates a new list with all the even elements of both of the given\n",
        "lists and prints the new list."
      ],
      "metadata": {
        "id": "EkI6Am3_lxON"
      }
    },
    {
      "cell_type": "code",
      "source": [
        "list_one = [1, 2, 3, 4, 5, 6, 7, 8, 9]\n",
        "list_two = [10, 11, 12, -13, -14, -15, -16]\n",
        "\n",
        "list_3 = []\n",
        "for num in list_one:\n",
        "  if num % 2 ==0:\n",
        "    list_3.append(num)\n",
        "\n",
        "for  num in list_two:\n",
        "  if num % 2 == 0:\n",
        "    list_3.append(num)\n",
        "\n",
        "print(\"Even numbers from both lists are: \", list_3)\n",
        "\n"
      ],
      "metadata": {
        "colab": {
          "base_uri": "https://localhost:8080/"
        },
        "id": "bJhONx1tn-tJ",
        "outputId": "02530f11-86a6-4711-c449-ec49321c3bd6"
      },
      "execution_count": null,
      "outputs": [
        {
          "output_type": "stream",
          "name": "stdout",
          "text": [
            "Even numbers from both lists are:  [2, 4, 6, 8, 10, 12, -14, -16]\n"
          ]
        }
      ]
    },
    {
      "cell_type": "markdown",
      "source": [
        "# Task 9\n",
        "Write a Python program that reads a string as an input from the user where multiple numbers are\n",
        "separated by spaces. Then, make a list of numbers from the input string and  print the list. Finally, remove all the occurrences of even numbers from the same\n",
        "input list and print the modified list."
      ],
      "metadata": {
        "id": "Wyzj4fnTpIKb"
      }
    },
    {
      "cell_type": "code",
      "source": [
        "my_list = []\n",
        "\n",
        "# for num in range(6):\n",
        "# user_input = int(input(\"Enter an integer: \"))\n",
        "# my_list.append(user_input)\n",
        "\n",
        "user_input = input(\"Enter numbers seperated with spaces: \")\n",
        "my_list = [int(x) for x in user_input.split(\" \")]\n",
        "\n",
        "odd_list = []\n",
        "for num in my_list:\n",
        "  if num % 2 != 0:\n",
        "    odd_list.append(num)\n",
        "print(\"Original list: \", my_list)\n",
        "print(\"Odd numnnbers: \", odd_list)"
      ],
      "metadata": {
        "colab": {
          "base_uri": "https://localhost:8080/"
        },
        "id": "C5m1on3FpMqd",
        "outputId": "93e2ad35-7786-4a72-f896-20f15f96bd6f"
      },
      "execution_count": null,
      "outputs": [
        {
          "output_type": "stream",
          "name": "stdout",
          "text": [
            "Enter numbers seperated with spaces: 2 3 1 4 6 7 9 11 12\n",
            "Original list:  [2, 3, 1, 4, 6, 7, 9, 11, 12]\n",
            "Odd numnnbers:  [3, 1, 7, 9, 11]\n"
          ]
        }
      ]
    },
    {
      "cell_type": "markdown",
      "source": [
        "# Task 10\n",
        "Write a Python program that reads a string as an input from the user where multiple numbers are\n",
        "separated by commas. Then, make a list of numbers from the input string and print the list.\n",
        "Finally, remove multiple occurrences of any numbers from the input list and print the modified\n",
        "list without duplicate values."
      ],
      "metadata": {
        "id": "U2vgY3pDyvcd"
      }
    },
    {
      "cell_type": "code",
      "source": [
        "user_input = input(\"Enter numbers sepersted by commas: \")\n",
        "\n",
        "my_list = [int(num) for num in user_input.split(\",\")]\n",
        "\n",
        "modified_list = []\n",
        "\n",
        "for num in my_list:\n",
        "  if num not in modified_list:\n",
        "    modified_list.append(num)\n",
        "\n",
        "print(\"List without duplicates: \", modified_list)"
      ],
      "metadata": {
        "colab": {
          "base_uri": "https://localhost:8080/"
        },
        "id": "RAPQon3l-kaK",
        "outputId": "39617c8b-c00b-4600-901a-7eef7e9623b7"
      },
      "execution_count": null,
      "outputs": [
        {
          "output_type": "stream",
          "name": "stdout",
          "text": [
            "Enter numbers sepersted by commas: 1,1,2,2,3,5,6,7,7,8,8,9\n",
            "List without duplicates:  [1, 2, 3, 5, 6, 7, 8, 9]\n"
          ]
        }
      ]
    },
    {
      "cell_type": "markdown",
      "source": [
        "# Task 11\n",
        "Write a Python program that prints \"True\", if the given two lists have at least one common\n",
        "member. Otherwise, print \"False\"."
      ],
      "metadata": {
        "id": "sBtdOrrtBzoF"
      }
    },
    {
      "cell_type": "code",
      "source": [
        "List_one = [1, 4, 3, 2, 6]\n",
        "\n",
        "List_two = [5, 6, 9, 8, 7]\n",
        "\n",
        "found = False\n",
        "\n",
        "for num in List_one:\n",
        "  if num in List_two:\n",
        "    found = True\n",
        "    break\n",
        "\n",
        "if found:\n",
        "   print(\"True\")\n",
        "\n",
        "else:\n",
        "    print(\"False\")\n",
        "\n"
      ],
      "metadata": {
        "colab": {
          "base_uri": "https://localhost:8080/"
        },
        "id": "SueRWEYuD4gG",
        "outputId": "71a813a1-581d-498d-81b3-ef0752b2374b"
      },
      "execution_count": null,
      "outputs": [
        {
          "output_type": "stream",
          "name": "stdout",
          "text": [
            "True\n"
          ]
        }
      ]
    },
    {
      "cell_type": "markdown",
      "source": [
        "# Task 16\n",
        "Write a Python program that reads 7 numbers into a list and prints the second largest\n",
        "number and its location or index position on the list. [You are not allowed to use the max(),\n",
        "sort(), sorted() function here]"
      ],
      "metadata": {
        "id": "9RZgk8j0HYNt"
      }
    },
    {
      "cell_type": "code",
      "source": [
        "user_input = input(\"Enter 7 numbers seperated by spaces: \")\n",
        "\n",
        "my_list = [int(x) for x in user_input.split(\" \")]\n",
        "\n",
        "max_num = my_list[0]\n",
        "\n",
        "for num in my_list:\n",
        "  if num > max_num:\n",
        "    max_num = num\n",
        "\n",
        "second_max = my_list[0]\n",
        "\n",
        "for num in my_list:\n",
        "  if num == max_num:\n",
        "    continue\n",
        "  else:\n",
        "    if num > second_max:\n",
        "      second_max = num\n",
        "      second_max_index = my_list.index(second_max)\n",
        "\n",
        "print(f\"The second lagest number in  List is {second_max} found at index {second_max_index}\")\n"
      ],
      "metadata": {
        "id": "vebA02ekNkXo",
        "colab": {
          "base_uri": "https://localhost:8080/"
        },
        "outputId": "90237856-17fb-4a08-a12b-ce54075546db"
      },
      "execution_count": null,
      "outputs": [
        {
          "output_type": "stream",
          "name": "stdout",
          "text": [
            "Enter 7 numbers seperated by spaces: 1 2 3 4 5 6 7\n",
            "The second lagest number in  List is 6 found at index 5\n"
          ]
        }
      ]
    },
    {
      "cell_type": "markdown",
      "source": [
        "# Task 17\n",
        "Write a Python program that reads 5 numbers into a list and prints the smallest and largest\n",
        "number and their locations in the list. [You are not allowed to use the max(), min(), sort(),\n",
        "sorted() functions here]"
      ],
      "metadata": {
        "id": "b-kTJPeV0Hy4"
      }
    },
    {
      "cell_type": "code",
      "source": [
        "user_input = input(\"Enter 7 numbers seperated by spaces: \")\n",
        "\n",
        "my_list = [int(x) for x in user_input.split(\" \")]\n",
        "\n",
        "max_num = my_list[0]\n",
        "min_num = my_list[0]\n",
        "for num in my_list:\n",
        "  if num > max_num:\n",
        "    max_num = num\n",
        "  else:\n",
        "    if num < min_num:\n",
        "      min_num = num\n",
        "max_index = my_list.index(max_num)\n",
        "min_index = my_list.index(min_num)\n",
        "\n",
        "print(f\"{max_num} is the maximum number and {min_num} is the minimum found at indexies {min_index} and {max_index} respectively\")"
      ],
      "metadata": {
        "colab": {
          "base_uri": "https://localhost:8080/"
        },
        "id": "hIhJnoWq-Bl6",
        "outputId": "a9b17a11-0ca1-446e-c73e-b352c4a2edc1"
      },
      "execution_count": null,
      "outputs": [
        {
          "output_type": "stream",
          "name": "stdout",
          "text": [
            "Enter 7 numbers seperated by spaces: 1 2 3 4 5\n",
            "5 is the maximum number and 1 is the minimum found at indexies 0 and 4 respectively\n"
          ]
        }
      ]
    },
    {
      "cell_type": "markdown",
      "source": [
        "# Task 18\n",
        "Write a Python program that takes two lists as an input from the user. Then print a new list with\n",
        "the common elements of both the input lists."
      ],
      "metadata": {
        "id": "9wUW6QnbCY3j"
      }
    },
    {
      "cell_type": "code",
      "source": [
        "user_input_1 = input(\"Enter elements a first list seperated by commas: \")\n",
        "_1_list = [x for x in user_input_1.split(\",\")]\n",
        "\n",
        "user_input_2 = input(\"Enter elements a first list seperated by commas: \")\n",
        "_2_list = [x for x in user_input_2.split(\",\")]\n",
        "\n",
        "common_list = []\n",
        "\n",
        "for element in _1_list:\n",
        "  if element in _2_list:\n",
        "    common_list.append(element)\n",
        "\n",
        "print(common_list)\n"
      ],
      "metadata": {
        "colab": {
          "base_uri": "https://localhost:8080/"
        },
        "id": "_CerbVe3C2i3",
        "outputId": "dbb75801-702c-41d4-c228-78288103e838"
      },
      "execution_count": null,
      "outputs": [
        {
          "output_type": "stream",
          "name": "stdout",
          "text": [
            "Enter elements a first list seperated by commas: 1,3,7,d,u,s\n",
            "Enter elements a first list seperated by commas: 1,7,u,d,g\n",
            "['1', '7', 'd', 'u']\n"
          ]
        }
      ]
    },
    {
      "cell_type": "markdown",
      "source": [
        "# Task 19\n",
        "Assume, you have been given two lists. [Your program should work for any two given lists;\n",
        "make changes to the lists below and check whether your program works correctly]"
      ],
      "metadata": {
        "id": "_Vcw5P09LF_J"
      }
    },
    {
      "cell_type": "code",
      "source": [],
      "metadata": {
        "id": "5xQxcMJlLPV9"
      },
      "execution_count": null,
      "outputs": []
    }
  ]
}
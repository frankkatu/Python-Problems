{
  "nbformat": 4,
  "nbformat_minor": 0,
  "metadata": {
    "colab": {
      "provenance": [],
      "include_colab_link": true
    },
    "kernelspec": {
      "name": "python3",
      "display_name": "Python 3"
    },
    "language_info": {
      "name": "python"
    }
  },
  "cells": [
    {
      "cell_type": "markdown",
      "metadata": {
        "id": "view-in-github",
        "colab_type": "text"
      },
      "source": [
        "<a href=\"https://colab.research.google.com/github/frankkatu/Python-Problems/blob/main/Python_strings.ipynb\" target=\"_parent\"><img src=\"https://colab.research.google.com/assets/colab-badge.svg\" alt=\"Open In Colab\"/></a>"
      ]
    },
    {
      "cell_type": "markdown",
      "source": [
        "#                         **   TASK 1**\n",
        "Write a Python program that takes a String as an input from the user and prints that String in\n",
        "reverse order."
      ],
      "metadata": {
        "id": "BjUH5Q-7PE3I"
      }
    },
    {
      "cell_type": "code",
      "source": [
        "#Reversing a string\n",
        "text = \"Frank\"\n",
        "reversed_text = \"\"\n",
        "for char in text:\n",
        "  reversed_text = char + reversed_text\n",
        "print(reversed_text)"
      ],
      "metadata": {
        "colab": {
          "base_uri": "https://localhost:8080/"
        },
        "id": "1ZxkWKgGPWx8",
        "outputId": "10f71d98-1f34-4861-97ca-b1b72abff7c0"
      },
      "execution_count": null,
      "outputs": [
        {
          "output_type": "stream",
          "name": "stdout",
          "text": [
            "knarF\n"
          ]
        }
      ]
    },
    {
      "cell_type": "code",
      "source": [
        "#Reversing a string\n",
        "text = \"Python\"\n",
        "reversed_text2 = text[::-1]\n",
        "print((reversed_text2))"
      ],
      "metadata": {
        "colab": {
          "base_uri": "https://localhost:8080/"
        },
        "id": "APvmCw-7RHft",
        "outputId": "c75feae8-4855-401b-b568-6b0ea0a76b56"
      },
      "execution_count": null,
      "outputs": [
        {
          "output_type": "stream",
          "name": "stdout",
          "text": [
            "nohtyP\n"
          ]
        }
      ]
    },
    {
      "cell_type": "markdown",
      "source": [
        "#                   ***Task 2***\n",
        "Write a python program that takes 2 inputs from the user, where the first input is a string with\n",
        "length greater than 1. The second input is the index of the first given string from where you have\n",
        "to start reversing. After reversing the first input string from that index, print the new string back\n",
        "to the user. See samples below for clarification."
      ],
      "metadata": {
        "id": "zKj8g44WQvOB"
      }
    },
    {
      "cell_type": "code",
      "source": [
        "#Reversing part of the string\n",
        "for i in range(1):\n",
        "  str1 = input(\"Enter the first string: \")\n",
        "  index = int(input(\"Enter the index: \"))\n",
        "if len(str1) > 1 & index <= len(str1):\n",
        "  reversed_text3 = str1[index::-1]\n",
        "  remaining_text = str1[index + 1:]\n",
        "  result = reversed_text3 + remaining_text\n",
        "print(result)"
      ],
      "metadata": {
        "colab": {
          "base_uri": "https://localhost:8080/"
        },
        "id": "W0oSssvDRDPE",
        "outputId": "ba1bbb11-877b-482c-9514-9789bbe26f3c"
      },
      "execution_count": null,
      "outputs": [
        {
          "output_type": "stream",
          "name": "stdout",
          "text": [
            "Enter the first string: Frank\n",
            "Enter the index: 2\n",
            "arFnk\n"
          ]
        }
      ]
    },
    {
      "cell_type": "markdown",
      "source": [
        "#            **Task 3**\n",
        "Write a program that takes a string as input and prints “Binary Number” if the string contains\n",
        "only 0s or 1s. Otherwise, print “Not a Binary Number”."
      ],
      "metadata": {
        "id": "_5TUy7KyRV9a"
      }
    },
    {
      "cell_type": "code",
      "source": [
        "string = input(\"Enter any string: \")\n",
        "is_binary = True\n",
        "for char in string:\n",
        "  if char != '1' and char != '0':\n",
        "    is_binary = False\n",
        "    break\n",
        "if is_binary == True:\n",
        "  print(\"Binary Number\")\n",
        "else:\n",
        "  print(\"Not a Binary Number\")\n"
      ],
      "metadata": {
        "id": "uPb6v8ysRbOO",
        "colab": {
          "base_uri": "https://localhost:8080/"
        },
        "outputId": "ced1de85-bfeb-4665-9d21-8b416007b22d"
      },
      "execution_count": null,
      "outputs": [
        {
          "output_type": "stream",
          "name": "stdout",
          "text": [
            "Enter any string: 110000a100\n",
            "Not a Binary Number\n"
          ]
        }
      ]
    },
    {
      "cell_type": "markdown",
      "source": [
        "# TASK 4\n",
        "Write a Python program that will ask the user to enter a word as an input.  \n",
        "● If the length of the input string is less than 4, then your program should print the same\n",
        "string as an output.  \n",
        "● If the input string’s length is greater than 3, then your program should add \"er\" at the end\n",
        "of the input string.  \n",
        "● If the input string already ends with \"er\", then add \"est\" instead, regardless of the length\n",
        "of the input string\n",
        "● If the input string already ends with \"est\", then your program should print the same input\n",
        "string as an output."
      ],
      "metadata": {
        "id": "1EwmRZTpZypW"
      }
    },
    {
      "cell_type": "code",
      "source": [
        "str1 = input(\"Enter any string: \")\n",
        "if str1.endswith(\"est\"):\n",
        "  result = str1\n",
        "elif str1.endswith(\"er\"):\n",
        "  result = str1[:-2] + \"est\"\n",
        "elif len(str1) < 4:\n",
        "  result = str1\n",
        "else:\n",
        "  result = str1 + \"er\"\n",
        "print(result)"
      ],
      "metadata": {
        "colab": {
          "base_uri": "https://localhost:8080/"
        },
        "id": "j2tapg00aLAR",
        "outputId": "33b6adeb-155a-4b86-c225-fda1929de5e6"
      },
      "execution_count": null,
      "outputs": [
        {
          "output_type": "stream",
          "name": "stdout",
          "text": [
            "Enter any string: ber\n",
            "best\n"
          ]
        }
      ]
    },
    {
      "cell_type": "markdown",
      "source": [
        "# Task 5\n",
        "Write a Python program that will ask the user to input a string (containing exactly one word).\n",
        "Then your program should print subsequent substrings of the given string as shown in the\n",
        "examples below.\n"
      ],
      "metadata": {
        "id": "gh6Snp9n5SZN"
      }
    },
    {
      "cell_type": "code",
      "source": [
        "word = input(\"Enter one word: \")\n",
        "sub_word = \" \"\n",
        "for char in word:\n",
        "  sub_word += char\n",
        "  print(sub_word)"
      ],
      "metadata": {
        "colab": {
          "base_uri": "https://localhost:8080/"
        },
        "id": "Irsm9ysV5Xe9",
        "outputId": "bc9a2864-d22b-4e8f-c72a-33ce679afa60"
      },
      "execution_count": null,
      "outputs": [
        {
          "output_type": "stream",
          "name": "stdout",
          "text": [
            "Enter one word: BANGLA \n",
            " B\n",
            " BA\n",
            " BAN\n",
            " BANG\n",
            " BANGL\n",
            " BANGLA\n",
            " BANGLA \n"
          ]
        }
      ]
    },
    {
      "cell_type": "markdown",
      "source": [
        "# Task 6\n",
        "Write a Python program that will ask the user to input a string (containing exactly one word).\n",
        "Then print the ASCII code for each character in the String using the ord() function.  "
      ],
      "metadata": {
        "id": "PsKvjEHJ8jpi"
      }
    },
    {
      "cell_type": "code",
      "source": [
        "# print(ord('A'))\n",
        "word = input(\"Enter a word: \")\n",
        "for char in word:\n",
        "  result = ord(char)\n",
        "  print(char , result)\n"
      ],
      "metadata": {
        "colab": {
          "base_uri": "https://localhost:8080/"
        },
        "id": "SSrrW8Vn9WY-",
        "outputId": "ea8355d2-a948-465f-c059-8daa772ab86a"
      },
      "execution_count": null,
      "outputs": [
        {
          "output_type": "stream",
          "name": "stdout",
          "text": [
            "Enter a word: Programming \n",
            "P 80\n",
            "r 114\n",
            "o 111\n",
            "g 103\n",
            "r 114\n",
            "a 97\n",
            "m 109\n",
            "m 109\n",
            "i 105\n",
            "n 110\n",
            "g 103\n",
            "  32\n"
          ]
        }
      ]
    },
    {
      "cell_type": "markdown",
      "source": [
        "# Task 7\n",
        "Write a Python program that takes a string as an input from the user containing all small letters\n",
        "and then prints the next alphabet in sequence for each alphabet in the input."
      ],
      "metadata": {
        "id": "L3Y7Nj3KB_-m"
      }
    },
    {
      "cell_type": "code",
      "source": [
        "input_str = input(\"Enter a string: \")\n",
        "result = \" \"\n",
        "for char in input_str:\n",
        "  result += chr(ord(char) + 1)\n",
        "print(\"Output\", result)"
      ],
      "metadata": {
        "colab": {
          "base_uri": "https://localhost:8080/"
        },
        "id": "oJ2RrnYKCMio",
        "outputId": "60703133-61f9-4d76-f13c-861875cf635b"
      },
      "execution_count": null,
      "outputs": [
        {
          "output_type": "stream",
          "name": "stdout",
          "text": [
            "Enter a string: the cow \n",
            "Output  uif!dpx!\n"
          ]
        }
      ]
    },
    {
      "cell_type": "markdown",
      "source": [
        "# Task 8\n",
        "Write a Python program that takes a String as input from the user, removes the characters at even\n",
        "index and prints the resulting String in uppercase."
      ],
      "metadata": {
        "id": "oQiUQL-8GdHq"
      }
    },
    {
      "cell_type": "code",
      "source": [
        "word = input(\"Enter any string: \")\n",
        "filtered_word =\"\"\n",
        "for i in range(len(word)):\n",
        "  if i%2 != 0:\n",
        "    filtered_word += word[i]\n",
        "\n",
        "result = filtered_word.upper()\n",
        "print(\"Output: \", result)"
      ],
      "metadata": {
        "colab": {
          "base_uri": "https://localhost:8080/"
        },
        "id": "vGGggRqIGkqa",
        "outputId": "5b8f7e7d-b358-4172-b792-5f60f1883559"
      },
      "execution_count": null,
      "outputs": [
        {
          "output_type": "stream",
          "name": "stdout",
          "text": [
            "Enter any string: String\n",
            "Output:  TIG\n"
          ]
        }
      ]
    },
    {
      "cell_type": "markdown",
      "source": [
        "# Task 9\n",
        "Given a string, create a new string with all the consecutive duplicates removed"
      ],
      "metadata": {
        "id": "_yiD4OhDJCzV"
      }
    },
    {
      "cell_type": "code",
      "source": [
        "string = input(\"Enter any string\")\n",
        "modified_str = \"\"\n",
        "for i in range(len(string)- 1):\n",
        "  if string[i] != string[i +1 ]:\n",
        "    modified_str += string[i]\n",
        "print(modified_str)\n"
      ],
      "metadata": {
        "id": "9lZZDko3JLuy",
        "colab": {
          "base_uri": "https://localhost:8080/"
        },
        "outputId": "6290a5de-a1e5-47a6-b133-44b0f656c616"
      },
      "execution_count": null,
      "outputs": [
        {
          "output_type": "stream",
          "name": "stdout",
          "text": [
            "Enter any stringJupyter Notebook is better. Case sensitivity check AAaaaAaaAAAa.\n",
            "Jupyter Notebok is beter. Case sensitivity check AaAaAa\n"
          ]
        }
      ]
    },
    {
      "cell_type": "markdown",
      "source": [
        "# Task 10\n",
        "Write a Python program that will take one input from the user made up of two strings separated\n",
        "by a comma and a space (see samples below). Then create a mixed string with alternative\n",
        "characters from each string. Any leftover chars will be appended at the end of the resulting\n",
        "string."
      ],
      "metadata": {
        "id": "JY4th2mO02e2"
      }
    },
    {
      "cell_type": "code",
      "source": [
        "user_input = input(\"Enter two words seperated by a comma and a space: \")\n",
        "\n",
        "str1, str2 = user_input.split(\", \")\n",
        "\n",
        "result = \"\"\n",
        "\n",
        "min_len = min(len(str1), len(str2))\n",
        "\n",
        "for char in range(min_len):\n",
        "  result += str1[char] + str2[char]\n",
        "\n",
        "result += str1[min_len:] + str2[min_len:]\n",
        "print(result)\n",
        "\n"
      ],
      "metadata": {
        "colab": {
          "base_uri": "https://localhost:8080/"
        },
        "id": "jj6xMXHc09YK",
        "outputId": "01ca2523-9d93-422e-ff7b-b48b2d811fe4"
      },
      "execution_count": null,
      "outputs": [
        {
          "output_type": "stream",
          "name": "stdout",
          "text": [
            "Enter two words seperated by a comma and a space: Frank, jp\n",
            "Fjrpank\n"
          ]
        }
      ]
    },
    {
      "cell_type": "markdown",
      "source": [
        "# TASK 11\n"
      ],
      "metadata": {
        "id": "AupxqA0_7lMZ"
      }
    },
    {
      "cell_type": "code",
      "source": [
        "# i =10\n",
        "\n",
        "# while(1 >= -20):\n",
        "\n",
        "#   if (i < 0):\n",
        "#     test = \" != \"\n",
        "#     test2 = str(i // 2) + test + str(int(i / 2))\n",
        "\n",
        "#   else:\n",
        "#     test = \" == \"\n",
        "#     test3 = str(i//2) + test + str(int(i/2))\n",
        "\n",
        "#   print(test)\n",
        "#   i -= 5\n",
        "\n"
      ],
      "metadata": {
        "id": "Y8y3D6-v8jBX"
      },
      "execution_count": null,
      "outputs": []
    },
    {
      "cell_type": "markdown",
      "source": [
        "# Task 16\n",
        "Write a python program that takes 2 inputs from the user. The first input is a string and the\n",
        "second input is a letter. The program should remove all occurences of the letter from the given\n",
        "string and print the output. If the letter is not found in the string and the length of string is greater\n",
        "than 3, then remove the first letter and last letter of the given string and print it. Otherwise print\n",
        "the string as it is. You can assume that all the input will be in lowercase letter."
      ],
      "metadata": {
        "id": "tpwKwhZAAyOK"
      }
    },
    {
      "cell_type": "code",
      "source": [
        "# Get input\n",
        "user_input = input(\"Enter a word and a letter separated with a comma: \")\n",
        "\n",
        "word, letter = user_input.split(\", \")\n",
        "\n",
        "if letter in word:\n",
        "  new_word = word.replace(letter, \"\")\n",
        "  print(\"Result\", new_word)\n",
        "\n",
        "elif len(word) > 3:\n",
        "  new_word = word[1:-1]\n",
        "  print(\"Result\", new_word)\n",
        "\n",
        "else:\n",
        "  print(\"Result:\", word)\n"
      ],
      "metadata": {
        "colab": {
          "base_uri": "https://localhost:8080/"
        },
        "id": "oTur3zaxB4KD",
        "outputId": "aeae2c5a-6786-4c06-877a-adc41267b3ef"
      },
      "execution_count": null,
      "outputs": [
        {
          "output_type": "stream",
          "name": "stdout",
          "text": [
            "Enter a word and a letter separated with a comma: frank, h\n",
            "Result ran\n"
          ]
        }
      ]
    },
    {
      "cell_type": "markdown",
      "source": [
        "# Task 17\n",
        "Write a python program that splits a given string on a given split character. The first input is a\n",
        "String and the second input is the character that will be used to split the first String.  "
      ],
      "metadata": {
        "id": "REvP_I9Um2le"
      }
    },
    {
      "cell_type": "code",
      "source": [
        "def split_string(string, delimiter):\n",
        "  temp = \"\"\n",
        "  for char in string:\n",
        "    if char == delimiter:\n",
        "      print(temp)\n",
        "      temp = \"\"\n",
        "    else:\n",
        "      temp += char\n",
        "\n",
        "  print(temp)\n",
        "\n",
        "input_string = input(\"Enter any string: \")\n",
        "input_delimiter = input(\"Enter a delimiter: \")\n",
        "\n",
        "split_string(input_string,  input_delimiter)"
      ],
      "metadata": {
        "colab": {
          "base_uri": "https://localhost:8080/"
        },
        "id": "SOSLgnOkm67V",
        "outputId": "0ea14e32-a431-4814-cc5d-5ade1730064e"
      },
      "execution_count": null,
      "outputs": [
        {
          "output_type": "stream",
          "name": "stdout",
          "text": [
            "Enter any string: Frank,michel,Gad,Patrick\n",
            "Enter a delimiter: ,\n",
            "Frank\n",
            "michel\n",
            "Gad\n",
            "Patrick\n"
          ]
        }
      ]
    },
    {
      "cell_type": "markdown",
      "source": [
        "# Task 18\n",
        "Write a python program that takes two inputs. The first input is a string and the second input is a\n",
        "number. If the number is even then concatenate the given string two times the given number and\n",
        "if the number is odd then concatenate the given string three times the given number."
      ],
      "metadata": {
        "id": "Sv0_Q19HM_ge"
      }
    },
    {
      "cell_type": "code",
      "source": [
        "string = input(\"Enter a string: \")\n",
        "\n",
        "num = int(input(\"Enter any interger: \"))\n",
        "\n",
        "if num % 2 == 0:\n",
        "  result = string * (num*2)\n",
        "  print(result)\n",
        "\n",
        "else:\n",
        " result = string * (num * 3)\n",
        " print(result)\n"
      ],
      "metadata": {
        "colab": {
          "base_uri": "https://localhost:8080/"
        },
        "id": "xKcf_pwLNCz-",
        "outputId": "e87c04d9-9c6e-40db-f197-2b9bfe644bb8"
      },
      "execution_count": null,
      "outputs": [
        {
          "output_type": "stream",
          "name": "stdout",
          "text": [
            "Enter a string: Jesus\n",
            "Enter any interger: 3\n",
            "JesusJesusJesusJesusJesusJesusJesusJesusJesus\n"
          ]
        }
      ]
    },
    {
      "cell_type": "markdown",
      "source": [
        "# Task 19\n",
        "Write a python program that takes a string as an input from the user and then modifies the string\n",
        "in such a way that the string always starts with an uppercase letter and the case of each\n",
        "subsequent letter is the opposite of the previous letter (uppercase character followed by a\n",
        "lowercase character followed by an uppercase character and so on). Finally, the modified string\n",
        "is printed to show the user."
      ],
      "metadata": {
        "id": "YO1YfZOtPgB1"
      }
    },
    {
      "cell_type": "code",
      "source": [
        "user_input = input(\"Enter a word\")\n",
        "result = \"\"\n",
        "for char in user_input:\n",
        "\n"
      ],
      "metadata": {
        "id": "NM1S6Up2Po8u"
      },
      "execution_count": null,
      "outputs": []
    }
  ]
}
{
  "nbformat": 4,
  "nbformat_minor": 0,
  "metadata": {
    "colab": {
      "provenance": [],
      "include_colab_link": true
    },
    "kernelspec": {
      "name": "python3",
      "display_name": "Python 3"
    },
    "language_info": {
      "name": "python"
    }
  },
  "cells": [
    {
      "cell_type": "markdown",
      "metadata": {
        "id": "view-in-github",
        "colab_type": "text"
      },
      "source": [
        "<a href=\"https://colab.research.google.com/github/frankkatu/Python-Problems/blob/main/Python_Tuples_Dictionaries.ipynb\" target=\"_parent\"><img src=\"https://colab.research.google.com/assets/colab-badge.svg\" alt=\"Open In Colab\"/></a>"
      ]
    },
    {
      "cell_type": "markdown",
      "source": [],
      "metadata": {
        "id": "_kEMQu5pZniU"
      }
    },
    {
      "cell_type": "markdown",
      "source": [
        "# Task 1\n",
        "Assume, you have been given a tuple.\n",
        "a_tuple = (\"The Institute\", (\"Best Mystery & Thriller\", \"The Silent Patient\", 68821), 75717,\n",
        "[1, 2, 3, 400, 5, 6, 7], (\"Best Fiction\", \"The Testaments\", 98291)).\n",
        "Write one line of Python code to access and print the value 400."
      ],
      "metadata": {
        "id": "1a6UOO3TZpMN"
      }
    },
    {
      "cell_type": "code",
      "source": [
        "a_tuple = (\"The Institute\", (\"Best Mystery & Thriller\", \"The Silent Patient\", 68821), 75717, [1, 2, 3, 400, 5, 6, 7], (\"Best Fiction\", \"The Testaments\", 98291))\n",
        "print(a_tuple[3][3])"
      ],
      "metadata": {
        "colab": {
          "base_uri": "https://localhost:8080/"
        },
        "id": "WkK3FJIaZvOr",
        "outputId": "b625606d-6acc-4ab1-f46d-56a975fe1cb0"
      },
      "execution_count": null,
      "outputs": [
        {
          "output_type": "stream",
          "name": "stdout",
          "text": [
            "400\n"
          ]
        }
      ]
    },
    {
      "cell_type": "markdown",
      "source": [
        "# Task 2\n",
        "Assume, you have been given a tuple. Write a Python program that creates a new\n",
        "tuple excluding the first and last two elements of the given tuple and prints the new tuple."
      ],
      "metadata": {
        "id": "4Nd-Of9mbla0"
      }
    },
    {
      "cell_type": "code",
      "source": [
        "user_input = input(\"Enter elements of a tuple seperated by commas: \")\n",
        "\n",
        "user_tuple = tuple(user_input.split(\",\"))\n",
        "\n",
        "new_tuple = user_tuple[2:-2]\n",
        "\n",
        "print(new_tuple)"
      ],
      "metadata": {
        "id": "PdqD21Gobq07",
        "colab": {
          "base_uri": "https://localhost:8080/"
        },
        "outputId": "20331817-a923-4003-f275-46aa0630d0d5"
      },
      "execution_count": null,
      "outputs": [
        {
          "output_type": "stream",
          "name": "stdout",
          "text": [
            "Enter elements of a tuple seperated by commas: 10, 20, 24, 25, 26, 35, 70\n",
            "(' 24', ' 25', ' 26')\n"
          ]
        }
      ]
    },
    {
      "cell_type": "markdown",
      "source": [
        "# Task 3\n",
        "Assume, you have been given a tuple.Write a Python program that prints the size of the tuple and all its elements as shown below."
      ],
      "metadata": {
        "id": "Kys_UP8EgNeE"
      }
    },
    {
      "cell_type": "code",
      "source": [
        "book_info = (\n",
        "(\"Best Mystery & Thriller\",\"The Silent Patient\",68,821),\n",
        "(\"Best Horror\",\"The Institute\",75,717),\n",
        "(\"Best History & Biography\",\"The five\",31,783 ),\n",
        "(\"Best Fiction\",\"The Testaments\",98,291)\n",
        ")\n",
        "\n",
        "tuple_size = len(book_info)\n",
        "\n",
        "print(f\"The size of the tuple is: {tuple_size}\\n\")\n",
        "\n",
        "for item in book_info:\n",
        "  print(item)"
      ],
      "metadata": {
        "colab": {
          "base_uri": "https://localhost:8080/"
        },
        "id": "HmgsIcfcgVUk",
        "outputId": "f0fd0309-4732-48aa-eadd-798bf8e733c8"
      },
      "execution_count": null,
      "outputs": [
        {
          "output_type": "stream",
          "name": "stdout",
          "text": [
            "The size of the tuple is: 4\n",
            "\n",
            "('Best Mystery & Thriller', 'The Silent Patient', 68, 821)\n",
            "('Best Horror', 'The Institute', 75, 717)\n",
            "('Best History & Biography', 'The five', 31, 783)\n",
            "('Best Fiction', 'The Testaments', 98, 291)\n"
          ]
        }
      ]
    },
    {
      "cell_type": "markdown",
      "source": [
        "# Task 4\n",
        "Assume, you have been given a tuple with details about books that won the Good Reads Choice Awards. Write a Python program that prints the award category, the book name, and its total votes\n",
        "earned as shown below."
      ],
      "metadata": {
        "id": "pkhIjFyUh5ZP"
      }
    },
    {
      "cell_type": "code",
      "source": [
        "book_info = (\n",
        "(\"Best Mystery & Thriller\",\"The Silent Patient\",68821),\n",
        "(\"Best Horror\",\"The Institute\",75717),\n",
        "(\"Best History & Biography\",\"The five\",31783 ),\n",
        "(\"Best Fiction\",\"The Testaments\",98291)\n",
        ")\n",
        "\n",
        "for category, name, votes in book_info:\n",
        "  print(f\"The {category} won the {name} category with {votes} votes\\n\")"
      ],
      "metadata": {
        "colab": {
          "base_uri": "https://localhost:8080/"
        },
        "id": "aBjyaiMcj7h0",
        "outputId": "8fe616bb-d8f2-4078-e6dc-a1f6c55c0bee"
      },
      "execution_count": null,
      "outputs": [
        {
          "output_type": "stream",
          "name": "stdout",
          "text": [
            "The Best Mystery & Thriller won the The Silent Patient category with 68821 votes\n",
            "\n",
            "The Best Horror won the The Institute category with 75717 votes\n",
            "\n",
            "The Best History & Biography won the The five category with 31783 votes\n",
            "\n",
            "The Best Fiction won the The Testaments category with 98291 votes\n",
            "\n"
          ]
        }
      ]
    },
    {
      "cell_type": "markdown",
      "source": [
        "# Task 5\n",
        "Write a python program that takes an input from the user and finds the number of times that the\n",
        "input is present in a given tuple."
      ],
      "metadata": {
        "id": "nkQg0i54k-0B"
      }
    },
    {
      "cell_type": "code",
      "source": [
        "user_tuple = input(\"Enter elements to form a tuple separated by commas: \")\n",
        "\n",
        "my_tuple = tuple(user_tuple.split(\",\"))\n",
        "# print(my_tuple)\n",
        "\n",
        "number = input(\"Enter a number to check: \")\n",
        "# print(number)\n",
        "\n",
        "count = 0\n",
        "for item in my_tuple:\n",
        "  if item == number:\n",
        "    count += 1\n",
        "\n",
        "print(count)\n"
      ],
      "metadata": {
        "colab": {
          "base_uri": "https://localhost:8080/"
        },
        "id": "TvgvZfaclEKp",
        "outputId": "31f83af3-a08c-4ab1-e21d-a92485542ec9"
      },
      "execution_count": null,
      "outputs": [
        {
          "output_type": "stream",
          "name": "stdout",
          "text": [
            "Enter elements to form a tuple separated by commas: 11,3,4,4,5,5,6,6,8,8,4\n",
            "Enter a number to check: 4\n",
            "3\n"
          ]
        }
      ]
    },
    {
      "cell_type": "markdown",
      "source": [
        "# Task 6\n",
        "Write a Python program to reverse a given tuple."
      ],
      "metadata": {
        "id": "ZU0eiL45VgYL"
      }
    },
    {
      "cell_type": "code",
      "source": [
        "my_tuple = (1, 2, 3, 4)\n",
        "\n",
        "my_list = list(my_tuple)\n",
        "# print(my_list)\n",
        "reversed_list = []\n",
        "\n",
        "for item in my_list:\n",
        "  reversed_list = [item] + reversed_list\n",
        "  reversed_tuple = tuple(reversed_list)\n",
        "\n",
        "print(reversed_tuple)\n"
      ],
      "metadata": {
        "colab": {
          "base_uri": "https://localhost:8080/"
        },
        "id": "11Q4ZVamV0XP",
        "outputId": "7adb56fb-a967-4617-a321-bd83f41c0d9b"
      },
      "execution_count": null,
      "outputs": [
        {
          "output_type": "stream",
          "name": "stdout",
          "text": [
            "(4, 3, 2, 1)\n"
          ]
        }
      ]
    },
    {
      "cell_type": "markdown",
      "source": [
        "#                                           **DICTIONARIES**"
      ],
      "metadata": {
        "id": "1nPIMXglfndI"
      }
    },
    {
      "cell_type": "markdown",
      "source": [
        "# Task 7\n",
        "Suppose you are given two dictionaries.\n",
        "Now create a new dictionary \"marks\", merging the two dictionaries, so that the original two\n",
        "dictionaries remain unchanged.\n",
        "Note: You can not use .update() function"
      ],
      "metadata": {
        "id": "zdqhx4bwf3iD"
      }
    },
    {
      "cell_type": "code",
      "source": [
        "dict1 = {'Harry':15, 'Draco':8, 'Nevil':19}\n",
        "dict2 = {'Ginie':18, 'Luna': 14}\n",
        "\n",
        "merged_dict = {}\n",
        "\n",
        "for key in dict1:\n",
        "  merged_dict[key] = dict1[key]\n",
        "\n",
        "for key in dict2:\n",
        "  merged_dict[key] = dict2[key]\n",
        "\n",
        "print(f\"Merged dictionry is : {merged_dict}\")\n",
        "\n",
        "\n"
      ],
      "metadata": {
        "colab": {
          "base_uri": "https://localhost:8080/"
        },
        "id": "ggIu156SgAwd",
        "outputId": "2bb8d0d0-97b9-423a-b0c4-5d014a41f100"
      },
      "execution_count": null,
      "outputs": [
        {
          "output_type": "stream",
          "name": "stdout",
          "text": [
            "Merged dictionry is : {'Harry': 15, 'Draco': 8, 'Nevil': 19, 'Ginie': 18, 'Luna': 14}\n"
          ]
        }
      ]
    },
    {
      "cell_type": "markdown",
      "source": [
        "# Task 8\n",
        "Write a Python program that takes a dictionary as an input from the user and then prints the\n",
        "average of all the values in the dictionary.\n",
        "[You are not allowed to use len() and sum()]"
      ],
      "metadata": {
        "id": "2iLlU-yqhQug"
      }
    },
    {
      "cell_type": "code",
      "source": [
        "my_dict = {}\n",
        "\n",
        "n = int(input(\"Enter how many Key-value pairs do you want to enter: \"))\n",
        "\n",
        "for items in range(n):\n",
        "  key = input(\"Enter a key: \")\n",
        "  value = input(\"Enter a value: \")\n",
        "  my_dict[key] = value\n",
        "\n",
        "sum = 0\n",
        "for value in my_dict.values():\n",
        "  sum += int(value)\n",
        "  average = sum / n\n",
        "\n",
        "print(f\"Average is: {average}\")"
      ],
      "metadata": {
        "colab": {
          "base_uri": "https://localhost:8080/"
        },
        "id": "Ku7Ll5i_jqT_",
        "outputId": "ba47f90b-ea29-4bc1-8b64-805317310f5f"
      },
      "execution_count": null,
      "outputs": [
        {
          "output_type": "stream",
          "name": "stdout",
          "text": [
            "Enter how many Key-value pairs do you want to enter: 3\n",
            "Enter a key: Ron\n",
            "Enter a value: 100\n",
            "Enter a key: Dan\n",
            "Enter a value: 200\n",
            "Enter a key: James\n",
            "Enter a value: 300\n",
            "Average is: 200.0\n"
          ]
        }
      ]
    },
    {
      "cell_type": "markdown",
      "source": [
        "# Task 9\n",
        "Suppose there is a dictionary named exam_marks as given below.\n",
        "exam_marks = {'Cierra Vega': 175, 'Alden Cantrell': 200, 'Kierra Gentry': 165, 'Pierre Cox': 190}\n",
        "Write a Python program that takes an input from the user and creates a new dictionary with only\n",
        "those elements from 'exam_marks' whose keys have values higher than the user input\n",
        "(inclusive)."
      ],
      "metadata": {
        "id": "sQEO_dCUo2kD"
      }
    },
    {
      "cell_type": "code",
      "source": [
        "exam_marks = {'Cierra Vega': 175, 'Alden Cantrell': 200, 'Kierra Gentry': 165, 'Pierre Cox': 190}\n",
        "\n",
        "pass_mark = int(input(\"Enter the pass mark: \"))\n",
        "promoted = {}\n",
        "\n",
        "for key, value in exam_marks.items():\n",
        "  if value >= pass_mark:\n",
        "    promoted[key] = value\n",
        "\n",
        "print(promoted)"
      ],
      "metadata": {
        "colab": {
          "base_uri": "https://localhost:8080/"
        },
        "id": "ir-Hqi2-pa_C",
        "outputId": "cc160a4b-ce37-4482-ee0e-9e65406e4d43"
      },
      "execution_count": null,
      "outputs": [
        {
          "output_type": "stream",
          "name": "stdout",
          "text": [
            "Enter the pass mark: 180\n",
            "{'Alden Cantrell': 200, 'Pierre Cox': 190}\n"
          ]
        }
      ]
    },
    {
      "cell_type": "markdown",
      "source": [
        "# Task 10\n",
        "Write a Python program that finds the largest value with its key from a given dictionary.\n",
        "[You are not allowed to use the max() function for this task]\n",
        "Note: You do not need to take the dictionaries as an input from the user but your code should\n",
        "work for any given dictionary. Also, you need to handle the quotation marks as a part of the\n",
        "output."
      ],
      "metadata": {
        "id": "CM2qD_Q7vadb"
      }
    },
    {
      "cell_type": "code",
      "source": [
        "books = {'sci fi': 12, 'mystery': 15, 'horror': 8, 'mythology': 10, 'young_adult': 4, 'adventure':14}\n",
        "\n",
        "highest_book = {}\n",
        "largest_key = None\n",
        "largest_value = 0\n",
        "\n",
        "\n",
        "for key, value in books.items():\n",
        "  if value > largest_value:\n",
        "    largest_value = value\n",
        "    largest_key = key\n",
        "    highest_book = {key:value}\n",
        "\n",
        "print(highest_book)\n",
        "print(f\"The highest selling book genre is '{largest_key}' and the number of books sold is {largest_value}\")\n",
        "\n"
      ],
      "metadata": {
        "colab": {
          "base_uri": "https://localhost:8080/"
        },
        "id": "jq_vR0Ygw6Up",
        "outputId": "e07f7bc2-10c6-4f92-8264-e7dc48b17cee"
      },
      "execution_count": null,
      "outputs": [
        {
          "output_type": "stream",
          "name": "stdout",
          "text": [
            "{'mystery': 15}\n",
            "The highest selling book genre is 'mystery' and the number of books sold is 15\n"
          ]
        }
      ]
    },
    {
      "cell_type": "markdown",
      "source": [
        "# Task 11\n",
        "Write a Python program that takes a String as an input from the user and counts the frequency\n",
        "of each character using a dictionary. For solving this problem, you may use each character as a\n",
        "key and its frequency as values. [You are not allowed to use the count() function]\n",
        "Hint: You can create a new dictionary to store the frequencies. You may ignore the case for\n",
        "simplicity (i.e. may consider P and p to be the same)."
      ],
      "metadata": {
        "id": "kflu9BpO2y8U"
      }
    },
    {
      "cell_type": "code",
      "source": [
        "user_string = input(\"Enter any string: \").lower()\n",
        "\n",
        "frequency_dict = {}\n",
        "\n",
        "for char in user_string:\n",
        "  if char in frequency_dict:\n",
        "    frequency_dict[char] += 1\n",
        "\n",
        "  else:\n",
        "    frequency_dict[char] = 1\n",
        "print(frequency_dict)\n",
        "\n"
      ],
      "metadata": {
        "colab": {
          "base_uri": "https://localhost:8080/"
        },
        "id": "LAGD2TMH26Fa",
        "outputId": "61145ad7-0b11-45a8-ad41-bedfa1f1a72a"
      },
      "execution_count": null,
      "outputs": [
        {
          "output_type": "stream",
          "name": "stdout",
          "text": [
            "Enter any string: Python programming is fun\n",
            "{'p': 2, 'y': 1, 't': 1, 'h': 1, 'o': 2, 'n': 3, ' ': 3, 'r': 2, 'g': 2, 'a': 1, 'm': 2, 'i': 2, 's': 1, 'f': 1, 'u': 1}\n"
          ]
        }
      ]
    },
    {
      "cell_type": "markdown",
      "source": [
        "# Task 12\n",
        "Suppose you are given the following dictionary where the values are lists.\n",
        "dict_1 = {'A': [1, 2, 3], 'b': ['1', '2'], \"c\": [4, 5, 6, 7]}\n",
        "Write a Python program that counts the total number of items in a dictionary’s values and prints\n",
        "it.\n",
        "[Without using sum(), len(), count() functions]"
      ],
      "metadata": {
        "id": "WohecvWEwvoh"
      }
    },
    {
      "cell_type": "code",
      "source": [
        "dict_1 = {'A': [1, 2, 3], 'b': ['1', '2'], \"c\": [4, 5, 6, 7]}\n",
        "\n",
        "count = 0\n",
        "for value in dict_1.values():\n",
        "  for item in value:\n",
        "    count += 1\n",
        "\n",
        "print(count)\n",
        "\n",
        "\n",
        "\n"
      ],
      "metadata": {
        "colab": {
          "base_uri": "https://localhost:8080/"
        },
        "id": "JKQYL89pw7-d",
        "outputId": "944d5893-e99e-4a5a-c258-92d553f9cda1"
      },
      "execution_count": null,
      "outputs": [
        {
          "output_type": "stream",
          "name": "stdout",
          "text": [
            "9\n"
          ]
        }
      ]
    },
    {
      "cell_type": "markdown",
      "source": [
        "# Task 13\n",
        "Suppose you have been given the following list of tuples.\n",
        "list_1 = [(\"a\", 1), (\"b\", 2), (\"a\", 3), (\"b\", 1), (\"a\", 2), (\"c\", 1)]\n",
        "Write a Python program that converts this list of tuples into a dictionary and then prints the\n",
        "dictionary. The items in each tuple are a key and its value respectively. You need to group the\n",
        "values with the same keys into a list as shown below.\n",
        "[You are not allowed to use set]"
      ],
      "metadata": {
        "id": "KqY0mrtZ0u1m"
      }
    },
    {
      "cell_type": "code",
      "source": [
        "list_1 = [(\"a\", 1), (\"b\", 2), (\"a\", 3), (\"b\", 1), (\"a\", 2), (\"c\", 1)]\n",
        "\n",
        "new_dict = {}\n",
        "\n",
        "for pair in list_1:\n",
        "  key, value = pair\n",
        "\n",
        "  if key in new_dict:\n",
        "    new_dict[key].append(value)\n",
        "  else:\n",
        "    new_dict[key] = [value]\n",
        "print(new_dict)\n",
        "\n"
      ],
      "metadata": {
        "colab": {
          "base_uri": "https://localhost:8080/"
        },
        "id": "ZAigWCLJ1yoj",
        "outputId": "533793f7-fba6-434e-944a-264d8accaa8e"
      },
      "execution_count": null,
      "outputs": [
        {
          "output_type": "stream",
          "name": "stdout",
          "text": [
            "{'a': [1, 3, 2], 'b': [2, 1], 'c': [1]}\n"
          ]
        }
      ]
    },
    {
      "cell_type": "markdown",
      "source": [
        "# Task 15\n",
        "Given a list of tuples, your task is to multiply the elements of the tuple and return a list of\n",
        "multiplied elements as shown below.\n"
      ],
      "metadata": {
        "id": "G8nURVgpAi7U"
      }
    },
    {
      "cell_type": "code",
      "source": [
        "my_list = [(2, 3), (4, 5), (6, 7), (2, 8)]\n",
        "\n",
        "new_list = []\n",
        "\n",
        "for item in my_list:\n",
        "  item1, item2 = item\n",
        "  result = item1 * item2\n",
        "  new_list.append(result)\n",
        "\n",
        "print(new_list)\n",
        "\n",
        "\n",
        "\n"
      ],
      "metadata": {
        "colab": {
          "base_uri": "https://localhost:8080/"
        },
        "id": "zTmmyZ9EBDh9",
        "outputId": "58be8b36-55bb-4a10-bdb1-4aed1153f689"
      },
      "execution_count": null,
      "outputs": [
        {
          "output_type": "stream",
          "name": "stdout",
          "text": [
            "[6, 20, 42, 16]\n"
          ]
        }
      ]
    },
    {
      "cell_type": "markdown",
      "source": [
        "# Task 16\n",
        "Suppose there is a dictionary named my_dictionary.\n",
        "my_dictionary = {'c1':'Red', 'c2':'Green', 'c3':None, 'd4':'Blue', 'a5':None}.\n",
        "Now write a Python program to remove empty items from the dictionary. [Empty items means\n",
        "keys without any values (None)]."
      ],
      "metadata": {
        "id": "v8BKheeVtTgu"
      }
    },
    {
      "cell_type": "code",
      "source": [
        "my_dictionary = {'c1': 'Red', 'c2': 'Green', 'c3': None, 'd4': 'Blue', 'a5': None}\n",
        "\n",
        "new_dict = {}\n",
        "\n",
        "for key, value in my_dictionary.items():\n",
        "    if value is not None:\n",
        "        new_dict[key] = value\n",
        "\n",
        "print(new_dict)\n"
      ],
      "metadata": {
        "colab": {
          "base_uri": "https://localhost:8080/"
        },
        "id": "Z-PbSlMgtgqz",
        "outputId": "cae9fce9-0cd1-4739-d248-9b2996e35822"
      },
      "execution_count": null,
      "outputs": [
        {
          "output_type": "stream",
          "name": "stdout",
          "text": [
            "{'c1': 'Red', 'c2': 'Green', 'd4': 'Blue'}\n"
          ]
        }
      ]
    },
    {
      "cell_type": "markdown",
      "source": [
        "# Task 17\n",
        "Suppose you are given a dictionary as shown below. Write a Python program that takes two\n",
        "inputs from the user representing the lower (inclusive) and upper (exclusive) of a range of\n",
        "values. Your task is to extract all the items from the dictionary whose values lie in the range\n",
        "given as input by the user.\n",
        "dict_1 = {'a' : 6, 'b' : 7, 'c' : 9, 'd' : 8, 'e' : 11, 'f' : 12, 'g' : 13}"
      ],
      "metadata": {
        "id": "2bgPXXQWd9X8"
      }
    },
    {
      "cell_type": "code",
      "source": [
        "dict_1 = {'a' : 6, 'b' : 7, 'c' : 9, 'd' : 8, 'e' : 11, 'f' : 12, 'g' : 13}\n",
        "new_dict = {}\n",
        "\n",
        "lower = int(input(\"Enter the lower range: \"))\n",
        "upper = int(input(\"Enter the upper range: \"))\n",
        "\n",
        "for key,value in dict_1.items():\n",
        "  if lower <= value < upper:\n",
        "    new_dict[key] = value\n",
        "\n",
        "\n",
        "print(new_dict)\n"
      ],
      "metadata": {
        "id": "aSFa9hc1eOI0",
        "colab": {
          "base_uri": "https://localhost:8080/"
        },
        "outputId": "068a0160-c2a5-47d8-dd53-fbd43508400b"
      },
      "execution_count": null,
      "outputs": [
        {
          "output_type": "stream",
          "name": "stdout",
          "text": [
            "Enter the lower range: 9\n",
            "Enter the upper range: 12\n",
            "{'c': 9, 'e': 11}\n"
          ]
        }
      ]
    },
    {
      "cell_type": "markdown",
      "source": [
        "# Task **18**\n",
        "Given a list of tuples, your task is to group the tuples based on the second element in the tuples\n",
        "as shown in the examples below. We can achieve this using dictionary by checking the second\n",
        "element in each tuple.\n",
        "[You do not need to take tuple as input and can assume that it is given as below]"
      ],
      "metadata": {
        "id": "7b7mM57aLxdz"
      }
    },
    {
      "cell_type": "code",
      "source": [
        " [(20, 80), (31, 80), (1, 22), (88, 11), (27, 11)]\n"
      ],
      "metadata": {
        "id": "3FMcvb86L6v8"
      },
      "execution_count": null,
      "outputs": []
    }
  ]
}
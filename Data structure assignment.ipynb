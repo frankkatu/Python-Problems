{
  "nbformat": 4,
  "nbformat_minor": 0,
  "metadata": {
    "colab": {
      "provenance": [],
      "include_colab_link": true
    },
    "kernelspec": {
      "name": "python3",
      "display_name": "Python 3"
    },
    "language_info": {
      "name": "python"
    }
  },
  "cells": [
    {
      "cell_type": "markdown",
      "metadata": {
        "id": "view-in-github",
        "colab_type": "text"
      },
      "source": [
        "<a href=\"https://colab.research.google.com/github/frankkatu/Python-Problems/blob/main/Data%20structure%20assignment.ipynb\" target=\"_parent\"><img src=\"https://colab.research.google.com/assets/colab-badge.svg\" alt=\"Open In Colab\"/></a>"
      ]
    },
    {
      "cell_type": "code",
      "execution_count": null,
      "metadata": {
        "id": "QyyPNdhzwzHv",
        "colab": {
          "base_uri": "https://localhost:8080/"
        },
        "outputId": "d83e4ad6-ad12-42f6-f032-2e1f5a0eb0de"
      },
      "outputs": [
        {
          "output_type": "stream",
          "name": "stdout",
          "text": [
            "Mounted at /content/drive\n"
          ]
        }
      ],
      "source": [
        "from google.colab import drive\n",
        "drive.mount('/content/drive')\n"
      ]
    },
    {
      "cell_type": "code",
      "source": [],
      "metadata": {
        "id": "AXlMafkArja5"
      },
      "execution_count": null,
      "outputs": []
    },
    {
      "cell_type": "markdown",
      "source": [
        "# Question 1\n",
        "We want to make a row of bricks that is goal inches long. We have a number of small bricks (1 inch each) and big bricks (5 inches each). Return true if it is possible to make the goal by choosing from the given bricks.\n",
        "\n"
      ],
      "metadata": {
        "id": "hQQmPUl7xddt"
      }
    },
    {
      "cell_type": "code",
      "source": [
        "def make_bricks(small, big, goal):\n",
        "\n",
        "    max_big_can_use = goal // 5\n",
        "\n",
        "    remaining = goal - (max_big_can_use * 5)\n",
        "\n",
        "\n",
        "    return small >= remaining\n",
        "make_bricks(3, 1, 17)"
      ],
      "metadata": {
        "colab": {
          "base_uri": "https://localhost:8080/"
        },
        "id": "H9xKbh541sue",
        "outputId": "63802de5-bf5b-467a-c03f-839268281b46"
      },
      "execution_count": null,
      "outputs": [
        {
          "output_type": "execute_result",
          "data": {
            "text/plain": [
              "True"
            ]
          },
          "metadata": {},
          "execution_count": 3
        }
      ]
    },
    {
      "cell_type": "markdown",
      "source": [
        "# Question 2\n",
        "We want make a package of goal kilos of chocolate. We have small bars (1 kilo each) and big bars (5 kilos each). Return the number of small bars to use, assuming we always use big bars before small bars. Return -1 if it can't be done.\n",
        "\n"
      ],
      "metadata": {
        "id": "GMUQ0wlL65J5"
      }
    },
    {
      "cell_type": "code",
      "source": [
        "def make_chocolate(small, big, goal):\n",
        "\n",
        "    max_big = goal // 5\n",
        "\n",
        "    big_bars_used = min(big, max_big)\n",
        "\n",
        "    remaining = goal - (big_bars_used * 5)\n",
        "\n",
        "    if small >= remaining:\n",
        "        return remaining\n",
        "    else:\n",
        "        return -1\n",
        "make_chocolate(6, 1, 12)"
      ],
      "metadata": {
        "colab": {
          "base_uri": "https://localhost:8080/"
        },
        "id": "hrLDpsU47BkX",
        "outputId": "b095dd31-4789-4d62-e521-7f763ba6437c"
      },
      "execution_count": null,
      "outputs": [
        {
          "output_type": "execute_result",
          "data": {
            "text/plain": [
              "-1"
            ]
          },
          "metadata": {},
          "execution_count": 7
        }
      ]
    },
    {
      "cell_type": "markdown",
      "source": [
        "# Question 3\n",
        "Given an array of ints, is it possible to choose a group of some of the ints, such that the group sums to the given target? This is a classic backtracking recursion problem. Once you understand the recursive backtracking strategy in this problem, you can use the same pattern for many problems to search a space of choices. Rather than looking at the whole array, our convention is to consider the part of the array starting at index start and continuing to the end of the array. The caller can specify the whole array simply by passing start as 0"
      ],
      "metadata": {
        "id": "NTf5QKBZNng-"
      }
    },
    {
      "cell_type": "code",
      "source": [
        "def subset_sum(arr, target, start=0):\n",
        "\n",
        "    if target == 0:\n",
        "        return True\n",
        "    if start >= len(arr):\n",
        "        return False\n",
        "\n",
        "\n",
        "    if arr[start] <= target:\n",
        "        if subset_sum(arr, target - arr[start], start + 1):\n",
        "            return True\n",
        "\n",
        "    return subset_sum(arr, target, start + 1)\n",
        "\n",
        "arr = [1, 2, 4, 6, 7, 8, 19, 10, 12, 16, 14, 34, 35, 67, 89]\n",
        "start = int(input(\"Enter the starting index: \"))\n",
        "a = int(input(\"Enter the target sum: \"))\n",
        "\n",
        "if start < 0 or start >= len(arr):\n",
        "    print(\"Invalid starting index\")\n",
        "else:\n",
        "    result = subset_sum(arr, a, start)\n",
        "    print(result)"
      ],
      "metadata": {
        "colab": {
          "base_uri": "https://localhost:8080/"
        },
        "id": "6YFObd8Cpd70",
        "outputId": "c4da1c9f-9a3a-48f5-9f66-d6a13022996b"
      },
      "execution_count": null,
      "outputs": [
        {
          "output_type": "stream",
          "name": "stdout",
          "text": [
            "Enter the starting index: 3\n",
            "Enter the target sum: 27\n",
            "True\n"
          ]
        }
      ]
    },
    {
      "cell_type": "markdown",
      "source": [
        "# Question 4\n",
        "\n",
        "Given an array of ints, is it possible to divide the ints into two groups, so that the sum of one group is a multiple of 10, and the sum of the other group is odd. Every int must be in one group or the other. Write a recursive helper method that takes whatever arguments you like, and make the initial call to your recursive helper from splitOdd10().\n",
        "\n"
      ],
      "metadata": {
        "id": "fmSp2gf0SDce"
      }
    },
    {
      "cell_type": "code",
      "source": [
        "def splitOdd10(nums):\n",
        "    # Helper function\n",
        "    def helper(index, sum1, sum2):\n",
        "        if index == len(nums):\n",
        "            return (sum1 % 10 == 0 and sum2 % 2 == 1) or (sum2 % 10 == 0 and sum1 % 2 == 1)\n",
        "\n",
        "        # Try putting current number in group 1\n",
        "        if helper(index + 1, sum1 + nums[index], sum2):\n",
        "            return True\n",
        "\n",
        "        # Try putting current number in group 2\n",
        "        if helper(index + 1, sum1, sum2 + nums[index]):\n",
        "            return True\n",
        "\n",
        "        return False\n",
        "\n",
        "    return helper(0, 0, 0)\n",
        "print(splitOdd10([5,   5, 6]))\n"
      ],
      "metadata": {
        "colab": {
          "base_uri": "https://localhost:8080/"
        },
        "id": "5NqABmU6THzg",
        "outputId": "0be7aecc-aea4-41c7-ac04-7c84d2e0699d"
      },
      "execution_count": null,
      "outputs": [
        {
          "output_type": "stream",
          "name": "stdout",
          "text": [
            "False\n"
          ]
        }
      ]
    }
  ]
}